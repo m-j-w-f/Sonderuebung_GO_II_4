{
 "cells": [
  {
   "cell_type": "code",
   "execution_count": 1,
   "id": "48c92a06",
   "metadata": {},
   "outputs": [],
   "source": [
    "import numpy as np\n",
    "from mpl_toolkits.mplot3d import axes3d\n",
    "from matplotlib import cm\n",
    "from matplotlib import pyplot as plt\n",
    "\n",
    "from gurobipy import Model, GRB\n",
    "\n",
    "from tqdm import tqdm"
   ]
  },
  {
   "cell_type": "markdown",
   "id": "2cfe2b8a",
   "metadata": {},
   "source": [
    "# Lösung zur Sonderübung 4"
   ]
  },
  {
   "cell_type": "markdown",
   "id": "8d1407b5",
   "metadata": {},
   "source": [
    "## Aufgabe 4.1"
   ]
  },
  {
   "cell_type": "markdown",
   "id": "5a955f6c",
   "metadata": {},
   "source": [
    "### b)\n",
    "Schreiben Sie eine Funktion parkettierung $(X^0,r)$, die als\n",
    "Eingabe eine Box $X^0\\subseteq\\mathbb{R}^2$, sowie die Anzahl $r\\in\\mathbb{N}$ an Unterteilungsschritten erhält und eine Liste von gleichmäßig unterteilten Teilboxen $X^1,\\ldots,X^k, k = 4r$ zurückgibt\n",
    "(vgl. Abb. 3.18, GO-Buch)."
   ]
  },
  {
   "cell_type": "code",
   "execution_count": 14,
   "id": "ce46508b",
   "metadata": {},
   "outputs": [],
   "source": [
    "def parkettierung(X,r):\n",
    "    res = np.array([X])\n",
    "    for j in range(r):\n",
    "        temp = np.zeros((4**(j+1), 2, 2))\n",
    "        for i, box in enumerate(res):\n",
    "            c = (box[0]+box[1])/2\n",
    "            temp[4*i,:,:] = [box[0], c]\n",
    "            temp[4*i+1,:,:] = [c, box[1]]\n",
    "            temp[4*i+2,:,:] = [[c[0],box[0,1]],[box[1,0], c[1]]]\n",
    "            temp[4*i+3,:,:] = [[box[0,0], c[1]],[c[0], box[1,1]]]\n",
    "            res = temp\n",
    "    print(\"Parketting created\")\n",
    "    return res"
   ]
  },
  {
   "cell_type": "markdown",
   "id": "b8c42fe8",
   "metadata": {},
   "source": [
    "### c)\n",
    "Schreiben Sie eine Funktion get_lower_bound $(X^0,r)$, die\n",
    "für einen Punkt $z\\in\\mathbb{R}$, eine Box $X^0\\subseteq\\mathbb{R}^2$ und eine Anzahl $r\\in\\mathbb{N}$ an gleichmäßigen\n",
    "Unterteilungsschritten eine möglichst genaue Unterschranke $\\hat{v}$ an den Minimalwert $v$\n",
    "des Distanzproblems $P$ aus Aufgabe S3.1, sowie einen zugehörigen Punkt $\\hat{x}\\in\\bigcup_{l=1}^k \\hat{M}^l$ bestimmt.\n",
    "Bestimmen Sie hierzu mit Hilfe von Aufgabenteil b) zunächst alle Teilboxen $X^1,\\ldots,X^k$ und lösen Sie für jedes $l=1,\\ldots,k$ das konvexe Optimierungsproblem\n",
    "\\begin{equation*}\n",
    "    \\hat{P^l}\\colon\\qquad \\min_{x\\in\\mathbb{R}^2}\\Vert x-z\\Vert_2^2\\qquad\\text{s.t.}\\qquad\\hat{g}_l(x)\\leq 0,x\\in X^l.\n",
    "\\end{equation*}\n",
    "Hinweis: Zum Lösen des Optimierungsproblems können Sie Gurobi\n",
    "oder einen Standardsolver aus dem Scipy-\n",
    "Paket verwenden."
   ]
  },
  {
   "cell_type": "code",
   "execution_count": 15,
   "id": "edb15724",
   "metadata": {},
   "outputs": [],
   "source": [
    "def get_lower_bound(X,r):\n",
    "    err = 0\n",
    "    p = parkettierung(X,r)\n",
    "    v_hut = np.inf\n",
    "    pbar = tqdm(p, desc = \"Solving\")\n",
    "    for box in pbar:\n",
    "        m = Model()\n",
    "        m.setParam('OutputFlag', False)\n",
    "        x = m.addMVar(shape=2,vtype = GRB.CONTINUOUS, lb=box[0], ub=box[1])\n",
    "        m.setObjective((x[0]-2)**2+(x[1]-2)**2)\n",
    "        m.addConstr(4-(x[0]-2)**2-4*(x[1]-2)**2+4*((box[0,0]-x[0])*(box[1,0]-x[0])+(box[0,1]-x[1])*(box[1,1]-x[1])) <= 0)\n",
    "        m.update()\n",
    "        m.optimize()\n",
    "        \n",
    "        try:\n",
    "            if m.ObjVal < v_hut:\n",
    "                v_hut = m.ObjVal\n",
    "                x_hut = m.x\n",
    "                pbar.set_postfix_str(f\"Best value: {v_hut}\")\n",
    "        except: \n",
    "            pass\n",
    "    \n",
    "    return v_hut, x_hut\n",
    "    "
   ]
  },
  {
   "cell_type": "markdown",
   "id": "d5e0cbd4",
   "metadata": {},
   "source": [
    "### d)\n",
    "Testen Sie Ihren Algorithmus für $X^0 = [-1,5] \\times [0, 4]$ und $r = 3$. Geben Sie $\\hat{x}$\n",
    "und $\\hat{v}$ aus. Wie lautet die gefundene Unterschranke an die Distanz von $z$ zu $M^0$?"
   ]
  },
  {
   "cell_type": "code",
   "execution_count": 16,
   "id": "00a9fb9b",
   "metadata": {},
   "outputs": [
    {
     "name": "stdout",
     "output_type": "stream",
     "text": [
      "Parketting created\n"
     ]
    },
    {
     "name": "stderr",
     "output_type": "stream",
     "text": [
      "Solving: 100%|██████████| 64/64 [00:00<00:00, 1688.69it/s, Best value: 0.8835106809279605]"
     ]
    },
    {
     "name": "stdout",
     "output_type": "stream",
     "text": [
      "V_hut: 0.8835106809279605\n",
      "x_hut: [2.237893285286073, 1.0906500160460246]\n"
     ]
    },
    {
     "name": "stderr",
     "output_type": "stream",
     "text": [
      "\n"
     ]
    }
   ],
   "source": [
    "X = np.array([[-1,5],[0,4]]).T\n",
    "v_hut, x_hut = get_lower_bound(X,3)\n",
    "print(f\"V_hut: {v_hut}\")\n",
    "print(f\"x_hut: {x_hut}\")"
   ]
  },
  {
   "cell_type": "markdown",
   "id": "9ddba6e0",
   "metadata": {},
   "source": [
    "### e)\n",
    "Siehe Sonderübungsblatt."
   ]
  },
  {
   "cell_type": "code",
   "execution_count": null,
   "id": "3818bde0",
   "metadata": {},
   "outputs": [],
   "source": []
  },
  {
   "cell_type": "code",
   "execution_count": null,
   "id": "a116ea4f",
   "metadata": {},
   "outputs": [],
   "source": []
  },
  {
   "cell_type": "markdown",
   "id": "735733c9",
   "metadata": {},
   "source": [
    "## Aufgabe 4.2"
   ]
  },
  {
   "cell_type": "markdown",
   "id": "346b1980",
   "metadata": {},
   "source": [
    "### b)\n",
    "Plotten Sie $f$ auf $X\\times Y=[-2,2]\\times[-2,2]$."
   ]
  },
  {
   "cell_type": "code",
   "execution_count": null,
   "id": "fd9fb758",
   "metadata": {},
   "outputs": [],
   "source": []
  },
  {
   "cell_type": "markdown",
   "id": "e1073356",
   "metadata": {},
   "source": [
    "### c)\n",
    "Implementieren Sie die Funktion $\\hat{f_{\\alpha}}$ und vergleichen Sie diese mit $\\hat{f}$ auf $X\\times Y=[-2,2]\\times[-2,2]$, indem Sie die Funktionen zusammen in einem Plot darstellen."
   ]
  },
  {
   "cell_type": "code",
   "execution_count": null,
   "id": "34cde5e1",
   "metadata": {},
   "outputs": [],
   "source": []
  },
  {
   "cell_type": "code",
   "execution_count": null,
   "id": "ef02ab26",
   "metadata": {},
   "outputs": [],
   "source": []
  },
  {
   "cell_type": "code",
   "execution_count": null,
   "id": "b33f3309",
   "metadata": {},
   "outputs": [],
   "source": []
  }
 ],
 "metadata": {
  "kernelspec": {
   "display_name": "Python 3.7.13 ('GO1')",
   "language": "python",
   "name": "python3"
  },
  "language_info": {
   "codemirror_mode": {
    "name": "ipython",
    "version": 3
   },
   "file_extension": ".py",
   "mimetype": "text/x-python",
   "name": "python",
   "nbconvert_exporter": "python",
   "pygments_lexer": "ipython3",
   "version": "3.7.13"
  },
  "vscode": {
   "interpreter": {
    "hash": "ad48721da5f12011362dd6407cb65fda34afbfe1199a40f252a4ca158cc5b0f5"
   }
  }
 },
 "nbformat": 4,
 "nbformat_minor": 5
}
